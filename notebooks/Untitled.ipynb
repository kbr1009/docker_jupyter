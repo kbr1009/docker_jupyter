{
 "cells": [
  {
   "cell_type": "code",
   "execution_count": 1,
   "metadata": {},
   "outputs": [
    {
     "name": "stdout",
     "output_type": "stream",
     "text": [
      "Collecting librosa\n",
      "  Downloading librosa-0.8.0.tar.gz (183 kB)\n",
      "\u001b[K     |################################| 183 kB 908 kB/s eta 0:00:01\n",
      "\u001b[?25hCollecting audioread>=2.0.0\n",
      "  Downloading audioread-2.1.8.tar.gz (21 kB)\n",
      "Requirement already satisfied: numpy>=1.15.0 in /root/local/bin/python-3.6.9/lib/python3.6/site-packages (from librosa) (1.19.2)\n",
      "Requirement already satisfied: scipy>=1.0.0 in /root/local/bin/python-3.6.9/lib/python3.6/site-packages (from librosa) (1.5.2)\n",
      "Requirement already satisfied: scikit-learn!=0.19.0,>=0.14.0 in /root/local/bin/python-3.6.9/lib/python3.6/site-packages (from librosa) (0.23.2)\n",
      "Requirement already satisfied: joblib>=0.14 in /root/local/bin/python-3.6.9/lib/python3.6/site-packages (from librosa) (0.16.0)\n",
      "Requirement already satisfied: decorator>=3.0.0 in /root/local/bin/python-3.6.9/lib/python3.6/site-packages (from librosa) (4.4.2)\n",
      "Collecting resampy>=0.2.2\n",
      "  Downloading resampy-0.2.2.tar.gz (323 kB)\n",
      "\u001b[K     |################################| 323 kB 7.6 MB/s eta 0:00:01\n",
      "\u001b[?25hCollecting numba>=0.43.0\n",
      "  Downloading numba-0.51.2-cp36-cp36m-manylinux2014_x86_64.whl (3.1 MB)\n",
      "\u001b[K     |################################| 3.1 MB 7.3 MB/s eta 0:00:01\n",
      "\u001b[?25hCollecting soundfile>=0.9.0\n",
      "  Downloading SoundFile-0.10.3.post1-py2.py3-none-any.whl (21 kB)\n",
      "Collecting pooch>=1.0\n",
      "  Downloading pooch-1.2.0-py3-none-any.whl (47 kB)\n",
      "\u001b[K     |################################| 47 kB 5.7 MB/s  eta 0:00:01\n",
      "\u001b[?25hRequirement already satisfied: threadpoolctl>=2.0.0 in /root/local/bin/python-3.6.9/lib/python3.6/site-packages (from scikit-learn!=0.19.0,>=0.14.0->librosa) (2.1.0)\n",
      "Requirement already satisfied: six>=1.3 in /root/local/bin/python-3.6.9/lib/python3.6/site-packages (from resampy>=0.2.2->librosa) (1.15.0)\n",
      "Requirement already satisfied: setuptools in /root/local/bin/python-3.6.9/lib/python3.6/site-packages (from numba>=0.43.0->librosa) (40.6.2)\n",
      "Collecting llvmlite<0.35,>=0.34.0.dev0\n",
      "  Downloading llvmlite-0.34.0-cp36-cp36m-manylinux2010_x86_64.whl (24.6 MB)\n",
      "\u001b[K     |################################| 24.6 MB 10.0 MB/s eta 0:00:01     |########################        | 18.5 MB 10.0 MB/s eta 0:00:01\n",
      "\u001b[?25hRequirement already satisfied: cffi>=1.0 in /root/local/bin/python-3.6.9/lib/python3.6/site-packages (from soundfile>=0.9.0->librosa) (1.14.3)\n",
      "Requirement already satisfied: packaging in /root/local/bin/python-3.6.9/lib/python3.6/site-packages (from pooch>=1.0->librosa) (20.4)\n",
      "Collecting appdirs\n",
      "  Downloading appdirs-1.4.4-py2.py3-none-any.whl (9.6 kB)\n",
      "Collecting requests\n",
      "  Downloading requests-2.24.0-py2.py3-none-any.whl (61 kB)\n",
      "\u001b[K     |################################| 61 kB 736 kB/s  eta 0:00:01\n",
      "\u001b[?25hRequirement already satisfied: pycparser in /root/local/bin/python-3.6.9/lib/python3.6/site-packages (from cffi>=1.0->soundfile>=0.9.0->librosa) (2.20)\n",
      "Requirement already satisfied: pyparsing>=2.0.2 in /root/local/bin/python-3.6.9/lib/python3.6/site-packages (from packaging->pooch>=1.0->librosa) (2.4.7)\n",
      "Collecting urllib3!=1.25.0,!=1.25.1,<1.26,>=1.21.1\n",
      "  Downloading urllib3-1.25.10-py2.py3-none-any.whl (127 kB)\n",
      "\u001b[K     |################################| 127 kB 10.0 MB/s eta 0:00:01\n",
      "\u001b[?25hCollecting chardet<4,>=3.0.2\n",
      "  Downloading chardet-3.0.4-py2.py3-none-any.whl (133 kB)\n",
      "\u001b[K     |################################| 133 kB 10.3 MB/s eta 0:00:01\n",
      "\u001b[?25hRequirement already satisfied: certifi>=2017.4.17 in /root/local/bin/python-3.6.9/lib/python3.6/site-packages (from requests->pooch>=1.0->librosa) (2020.6.20)\n",
      "Collecting idna<3,>=2.5\n",
      "  Downloading idna-2.10-py2.py3-none-any.whl (58 kB)\n",
      "\u001b[K     |################################| 58 kB 7.6 MB/s  eta 0:00:01\n",
      "\u001b[?25hUsing legacy 'setup.py install' for librosa, since package 'wheel' is not installed.\n",
      "Using legacy 'setup.py install' for audioread, since package 'wheel' is not installed.\n",
      "Using legacy 'setup.py install' for resampy, since package 'wheel' is not installed.\n",
      "Installing collected packages: audioread, llvmlite, numba, resampy, soundfile, appdirs, urllib3, chardet, idna, requests, pooch, librosa\n",
      "    Running setup.py install for audioread ... \u001b[?25ldone\n",
      "\u001b[?25h    Running setup.py install for resampy ... \u001b[?25ldone\n",
      "\u001b[?25h    Running setup.py install for librosa ... \u001b[?25ldone\n",
      "\u001b[?25hSuccessfully installed appdirs-1.4.4 audioread-2.1.8 chardet-3.0.4 idna-2.10 librosa-0.8.0 llvmlite-0.34.0 numba-0.51.2 pooch-1.2.0 requests-2.24.0 resampy-0.2.2 soundfile-0.10.3.post1 urllib3-1.25.10\n",
      "Note: you may need to restart the kernel to use updated packages.\n"
     ]
    }
   ],
   "source": [
    "pip install librosa "
   ]
  },
  {
   "cell_type": "code",
   "execution_count": null,
   "metadata": {},
   "outputs": [],
   "source": []
  }
 ],
 "metadata": {
  "kernelspec": {
   "display_name": "Python 3",
   "language": "python",
   "name": "python3"
  },
  "language_info": {
   "codemirror_mode": {
    "name": "ipython",
    "version": 3
   },
   "file_extension": ".py",
   "mimetype": "text/x-python",
   "name": "python",
   "nbconvert_exporter": "python",
   "pygments_lexer": "ipython3",
   "version": "3.6.9"
  }
 },
 "nbformat": 4,
 "nbformat_minor": 4
}
